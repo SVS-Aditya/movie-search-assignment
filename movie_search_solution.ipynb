{
 "cells": [
  {
   "cell_type": "markdown",
   "id": "ec98778a",
   "metadata": {},
   "source": [
    "# Movie Semantic Search Assignment\n",
    "\n",
    "This notebook is my solution for the movie semantic search assignment. I'm trying to learn step by step."
   ]
  },
  {
   "cell_type": "markdown",
   "id": "047401c6",
   "metadata": {},
   "source": [
    "## (a) Install and Import Libraries"
   ]
  },
  {
   "cell_type": "code",
   "execution_count": null,
   "id": "78a190a2",
   "metadata": {},
   "outputs": [],
   "source": [
    "# I need pandas for handling data, sklearn for similarity, and sentence-transformers for embeddings\n",
    "import pandas as pd\n",
    "from sklearn.metrics.pairwise import cosine_similarity\n",
    "from sentence_transformers import SentenceTransformer"
   ]
  },
  {
   "cell_type": "markdown",
   "id": "fcde603c",
   "metadata": {},
   "source": [
    "## (b) Load movies.csv into a pandas DataFrame"
   ]
  },
  {
   "cell_type": "code",
   "execution_count": null,
   "id": "a59da226",
   "metadata": {},
   "outputs": [],
   "source": [
    "# Loading the movie dataset\n",
    "df = pd.read_csv(\"movies.csv\")\n",
    "df.head()"
   ]
  },
  {
   "cell_type": "markdown",
   "id": "48b8448e",
   "metadata": {},
   "source": [
    "## (c) Create embeddings using all-MiniLM-L6-v2"
   ]
  },
  {
   "cell_type": "code",
   "execution_count": null,
   "id": "acbc9225",
   "metadata": {},
   "outputs": [],
   "source": [
    "# I load the model which converts text into vectors\n",
    "model = SentenceTransformer(\"all-MiniLM-L6-v2\")\n",
    "\n",
    "# Now I encode all the movie plots into embeddings\n",
    "movie_embeddings = model.encode(df['plot'].tolist(), convert_to_tensor=True)"
   ]
  },
  {
   "cell_type": "markdown",
   "id": "256335d8",
   "metadata": {},
   "source": [
    "## (d) Implement search_movies function"
   ]
  },
  {
   "cell_type": "code",
   "execution_count": null,
   "id": "69f8502b",
   "metadata": {},
   "outputs": [],
   "source": [
    "# Function to search movies similar to a query\n",
    "def search_movies(query, top_n=5):\n",
    "    # encode the query into embedding\n",
    "    query_embedding = model.encode([query], convert_to_tensor=True)\n",
    "    \n",
    "    # calculate cosine similarity between query and all movies\n",
    "    similarity_scores = cosine_similarity(query_embedding.cpu(), movie_embeddings.cpu())[0]\n",
    "    \n",
    "    # get top n indices\n",
    "    top_indices = similarity_scores.argsort()[-top_n:][::-1]\n",
    "    \n",
    "    # return DataFrame with results\n",
    "    results = df.iloc[top_indices].copy()\n",
    "    results[\"similarity\"] = similarity_scores[top_indices]\n",
    "    return results"
   ]
  },
  {
   "cell_type": "markdown",
   "id": "2cc1bce9",
   "metadata": {},
   "source": [
    "## (e) Test with query 'spy thriller in Paris'"
   ]
  },
  {
   "cell_type": "code",
   "execution_count": null,
   "id": "d6c48d91",
   "metadata": {},
   "outputs": [],
   "source": [
    "# Let's test my function\n",
    "search_movies(\"spy thriller in Paris\", top_n=3)"
   ]
  }
 ],
 "metadata": {
  "kernelspec": {
   "display_name": "Python 3",
   "language": "python",
   "name": "python3"
  },
  "language_info": {
   "codemirror_mode": {
    "name": "ipython",
    "version": 3
   },
   "file_extension": ".py",
   "mimetype": "text/x-python",
   "name": "python",
   "nbconvert_exporter": "python",
   "pygments_lexer": "ipython3",
   "version": "3.10"
  }
 },
 "nbformat": 4,
 "nbformat_minor": 5
}
